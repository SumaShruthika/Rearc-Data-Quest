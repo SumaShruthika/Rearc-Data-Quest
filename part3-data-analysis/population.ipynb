{
 "cells": [
  {
   "cell_type": "markdown",
   "id": "7ccd28ea",
   "metadata": {},
   "source": [
    "IMPORT LIBRARIES AND OTHER CONFIG VARIABLES"
   ]
  },
  {
   "cell_type": "code",
   "execution_count": 2,
   "id": "35d5c8d1",
   "metadata": {},
   "outputs": [],
   "source": [
    "import pandas as pd\n",
    "import os\n",
    "import boto3\n",
    "import json\n",
    "from dotenv import load_dotenv\n",
    "from config import BUCKET_NAME, PR_PREFIX, POPULATION_PREFIX"
   ]
  },
  {
   "cell_type": "code",
   "execution_count": 3,
   "id": "91242062",
   "metadata": {},
   "outputs": [
    {
     "data": {
      "text/plain": [
       "True"
      ]
     },
     "execution_count": 3,
     "metadata": {},
     "output_type": "execute_result"
    }
   ],
   "source": [
    "# Load environment variables from .env file\n",
    "load_dotenv()"
   ]
  },
  {
   "cell_type": "code",
   "execution_count": 4,
   "id": "343a6461",
   "metadata": {},
   "outputs": [],
   "source": [
    "AWS_ACCESS_KEY_ID = os.getenv(\"AWS_ACCESS_KEY_ID\")\n",
    "AWS_SECRET_ACCESS_KEY = os.getenv(\"AWS_SECRET_ACCESS_KEY\")\n",
    "AWS_DEFAULT_REGION = os.getenv(\"AWS_DEFAULT_REGION\")"
   ]
  },
  {
   "cell_type": "code",
   "execution_count": 5,
   "id": "f188f6d0",
   "metadata": {},
   "outputs": [],
   "source": [
    "# Initialize S3 client with credentials\n",
    "s3 = boto3.client(\n",
    "    's3',\n",
    "    aws_access_key_id=AWS_ACCESS_KEY_ID,\n",
    "    aws_secret_access_key=AWS_SECRET_ACCESS_KEY,\n",
    "    region_name=AWS_DEFAULT_REGION\n",
    ")"
   ]
  },
  {
   "cell_type": "markdown",
   "id": "e8d1661a",
   "metadata": {},
   "source": [
    "SECTION 0 - LOAD DATA FROM S3"
   ]
  },
  {
   "cell_type": "code",
   "execution_count": 6,
   "id": "2861b8be",
   "metadata": {},
   "outputs": [],
   "source": [
    "# Load part 1 data into df\n",
    "part1_data = s3.get_object(Bucket=BUCKET_NAME, Key=f\"{PR_PREFIX}\")\n",
    "part1_df = pd.read_csv(part1_data['Body'], sep='\\t')"
   ]
  },
  {
   "cell_type": "code",
   "execution_count": 90,
   "id": "1db6c7c5",
   "metadata": {},
   "outputs": [
    {
     "data": {
      "text/html": [
       "<div>\n",
       "<style scoped>\n",
       "    .dataframe tbody tr th:only-of-type {\n",
       "        vertical-align: middle;\n",
       "    }\n",
       "\n",
       "    .dataframe tbody tr th {\n",
       "        vertical-align: top;\n",
       "    }\n",
       "\n",
       "    .dataframe thead th {\n",
       "        text-align: right;\n",
       "    }\n",
       "</style>\n",
       "<table border=\"1\" class=\"dataframe\">\n",
       "  <thead>\n",
       "    <tr style=\"text-align: right;\">\n",
       "      <th></th>\n",
       "      <th>series_id</th>\n",
       "      <th>year</th>\n",
       "      <th>period</th>\n",
       "      <th>value</th>\n",
       "      <th>footnote_codes</th>\n",
       "    </tr>\n",
       "  </thead>\n",
       "  <tbody>\n",
       "    <tr>\n",
       "      <th>0</th>\n",
       "      <td>PRS30006011</td>\n",
       "      <td>1995</td>\n",
       "      <td>Q01</td>\n",
       "      <td>2.6</td>\n",
       "      <td>NaN</td>\n",
       "    </tr>\n",
       "    <tr>\n",
       "      <th>1</th>\n",
       "      <td>PRS30006011</td>\n",
       "      <td>1995</td>\n",
       "      <td>Q02</td>\n",
       "      <td>2.1</td>\n",
       "      <td>NaN</td>\n",
       "    </tr>\n",
       "    <tr>\n",
       "      <th>2</th>\n",
       "      <td>PRS30006011</td>\n",
       "      <td>1995</td>\n",
       "      <td>Q03</td>\n",
       "      <td>0.9</td>\n",
       "      <td>NaN</td>\n",
       "    </tr>\n",
       "    <tr>\n",
       "      <th>3</th>\n",
       "      <td>PRS30006011</td>\n",
       "      <td>1995</td>\n",
       "      <td>Q04</td>\n",
       "      <td>0.1</td>\n",
       "      <td>NaN</td>\n",
       "    </tr>\n",
       "    <tr>\n",
       "      <th>4</th>\n",
       "      <td>PRS30006011</td>\n",
       "      <td>1995</td>\n",
       "      <td>Q05</td>\n",
       "      <td>1.4</td>\n",
       "      <td>NaN</td>\n",
       "    </tr>\n",
       "  </tbody>\n",
       "</table>\n",
       "</div>"
      ],
      "text/plain": [
       "     series_id  year period  value footnote_codes\n",
       "0  PRS30006011  1995    Q01    2.6            NaN\n",
       "1  PRS30006011  1995    Q02    2.1            NaN\n",
       "2  PRS30006011  1995    Q03    0.9            NaN\n",
       "3  PRS30006011  1995    Q04    0.1            NaN\n",
       "4  PRS30006011  1995    Q05    1.4            NaN"
      ]
     },
     "metadata": {},
     "output_type": "display_data"
    }
   ],
   "source": [
    "display(part1_df.head())"
   ]
  },
  {
   "cell_type": "code",
   "execution_count": 7,
   "id": "4e1e0a51",
   "metadata": {},
   "outputs": [],
   "source": [
    "# Load part 2 data into df\n",
    "api_population = s3.get_object(Bucket=BUCKET_NAME, Key=POPULATION_PREFIX)\n",
    "population_json = json.load(api_population[\"Body\"])\n",
    "part2_df = pd.json_normalize(population_json['data'])"
   ]
  },
  {
   "cell_type": "code",
   "execution_count": 8,
   "id": "a6ddc7d6",
   "metadata": {},
   "outputs": [
    {
     "data": {
      "text/plain": [
       "['ID Nation', 'Nation', 'ID Year', 'Year', 'Population', 'Slug Nation']"
      ]
     },
     "execution_count": 8,
     "metadata": {},
     "output_type": "execute_result"
    }
   ],
   "source": [
    "part2_df.columns.tolist()"
   ]
  },
  {
   "cell_type": "code",
   "execution_count": 95,
   "id": "737cd2b7",
   "metadata": {},
   "outputs": [],
   "source": [
    "part2_df.to_csv('part2.csv', index=False)"
   ]
  },
  {
   "cell_type": "code",
   "execution_count": 91,
   "id": "5d486dca",
   "metadata": {},
   "outputs": [
    {
     "data": {
      "text/html": [
       "<div>\n",
       "<style scoped>\n",
       "    .dataframe tbody tr th:only-of-type {\n",
       "        vertical-align: middle;\n",
       "    }\n",
       "\n",
       "    .dataframe tbody tr th {\n",
       "        vertical-align: top;\n",
       "    }\n",
       "\n",
       "    .dataframe thead th {\n",
       "        text-align: right;\n",
       "    }\n",
       "</style>\n",
       "<table border=\"1\" class=\"dataframe\">\n",
       "  <thead>\n",
       "    <tr style=\"text-align: right;\">\n",
       "      <th></th>\n",
       "      <th>ID Nation</th>\n",
       "      <th>Nation</th>\n",
       "      <th>ID Year</th>\n",
       "      <th>Year</th>\n",
       "      <th>Population</th>\n",
       "      <th>Slug Nation</th>\n",
       "    </tr>\n",
       "  </thead>\n",
       "  <tbody>\n",
       "    <tr>\n",
       "      <th>0</th>\n",
       "      <td>01000US</td>\n",
       "      <td>United States</td>\n",
       "      <td>2023</td>\n",
       "      <td>2023</td>\n",
       "      <td>332387540</td>\n",
       "      <td>united-states</td>\n",
       "    </tr>\n",
       "    <tr>\n",
       "      <th>1</th>\n",
       "      <td>01000US</td>\n",
       "      <td>United States</td>\n",
       "      <td>2022</td>\n",
       "      <td>2022</td>\n",
       "      <td>331097593</td>\n",
       "      <td>united-states</td>\n",
       "    </tr>\n",
       "    <tr>\n",
       "      <th>2</th>\n",
       "      <td>01000US</td>\n",
       "      <td>United States</td>\n",
       "      <td>2021</td>\n",
       "      <td>2021</td>\n",
       "      <td>329725481</td>\n",
       "      <td>united-states</td>\n",
       "    </tr>\n",
       "    <tr>\n",
       "      <th>3</th>\n",
       "      <td>01000US</td>\n",
       "      <td>United States</td>\n",
       "      <td>2020</td>\n",
       "      <td>2020</td>\n",
       "      <td>326569308</td>\n",
       "      <td>united-states</td>\n",
       "    </tr>\n",
       "    <tr>\n",
       "      <th>4</th>\n",
       "      <td>01000US</td>\n",
       "      <td>United States</td>\n",
       "      <td>2019</td>\n",
       "      <td>2019</td>\n",
       "      <td>324697795</td>\n",
       "      <td>united-states</td>\n",
       "    </tr>\n",
       "  </tbody>\n",
       "</table>\n",
       "</div>"
      ],
      "text/plain": [
       "  ID Nation         Nation  ID Year  Year  Population    Slug Nation\n",
       "0   01000US  United States     2023  2023   332387540  united-states\n",
       "1   01000US  United States     2022  2022   331097593  united-states\n",
       "2   01000US  United States     2021  2021   329725481  united-states\n",
       "3   01000US  United States     2020  2020   326569308  united-states\n",
       "4   01000US  United States     2019  2019   324697795  united-states"
      ]
     },
     "metadata": {},
     "output_type": "display_data"
    }
   ],
   "source": [
    "display(part2_df.head(5))"
   ]
  },
  {
   "cell_type": "markdown",
   "id": "6917a688",
   "metadata": {},
   "source": [
    "SECTION 1 - CALCULATING MEAN AND STD ACROSS YEARS 2013-2018"
   ]
  },
  {
   "cell_type": "code",
   "execution_count": 81,
   "id": "31ac0cc8",
   "metadata": {},
   "outputs": [
    {
     "data": {
      "text/plain": [
       "ID Nation      object\n",
       "Nation         object\n",
       "ID Year         int64\n",
       "Year           object\n",
       "Population      int64\n",
       "Slug Nation    object\n",
       "dtype: object"
      ]
     },
     "execution_count": 81,
     "metadata": {},
     "output_type": "execute_result"
    }
   ],
   "source": [
    "part2_df.dtypes"
   ]
  },
  {
   "cell_type": "code",
   "execution_count": 97,
   "id": "29d0ff07",
   "metadata": {},
   "outputs": [],
   "source": [
    "part2_df['Year'] = part2_df['Year'].astype(int)"
   ]
  },
  {
   "cell_type": "code",
   "execution_count": 83,
   "id": "c21099aa",
   "metadata": {},
   "outputs": [],
   "source": [
    "df_pop_2013_2018 = part2_df[(part2_df['Year'] >= 2013) & (part2_df['Year'] <= 2018)]"
   ]
  },
  {
   "cell_type": "code",
   "execution_count": 84,
   "id": "1454f243",
   "metadata": {},
   "outputs": [
    {
     "name": "stdout",
     "output_type": "stream",
     "text": [
      "Mean Population (2013–2018): 317437383.0\n",
      "Standard Deviation: 4257089.5415293295\n"
     ]
    }
   ],
   "source": [
    "mean_pop = df_pop_2013_2018['Population'].mean()\n",
    "std_pop = df_pop_2013_2018['Population'].std()\n",
    "\n",
    "# round to 2 decimal places\n",
    "print(\"Mean Population (2013–2018):\", mean_pop)\n",
    "print(\"Standard Deviation:\", std_pop)"
   ]
  },
  {
   "cell_type": "markdown",
   "id": "ec4a7c10",
   "metadata": {},
   "source": [
    "SECTION 2 - BEST YEAR BY SERIES_ID"
   ]
  },
  {
   "cell_type": "code",
   "execution_count": 85,
   "id": "ede2bcbb",
   "metadata": {},
   "outputs": [],
   "source": [
    "part1_df.columns = part1_df.columns.str.strip()"
   ]
  },
  {
   "cell_type": "code",
   "execution_count": 86,
   "id": "e80a5c52",
   "metadata": {},
   "outputs": [
    {
     "data": {
      "text/html": [
       "<div>\n",
       "<style scoped>\n",
       "    .dataframe tbody tr th:only-of-type {\n",
       "        vertical-align: middle;\n",
       "    }\n",
       "\n",
       "    .dataframe tbody tr th {\n",
       "        vertical-align: top;\n",
       "    }\n",
       "\n",
       "    .dataframe thead th {\n",
       "        text-align: right;\n",
       "    }\n",
       "</style>\n",
       "<table border=\"1\" class=\"dataframe\">\n",
       "  <thead>\n",
       "    <tr style=\"text-align: right;\">\n",
       "      <th></th>\n",
       "      <th>series_id</th>\n",
       "      <th>year</th>\n",
       "      <th>period</th>\n",
       "      <th>value</th>\n",
       "      <th>footnote_codes</th>\n",
       "    </tr>\n",
       "  </thead>\n",
       "  <tbody>\n",
       "    <tr>\n",
       "      <th>0</th>\n",
       "      <td>PRS30006011</td>\n",
       "      <td>1995</td>\n",
       "      <td>Q01</td>\n",
       "      <td>2.6</td>\n",
       "      <td>NaN</td>\n",
       "    </tr>\n",
       "    <tr>\n",
       "      <th>1</th>\n",
       "      <td>PRS30006011</td>\n",
       "      <td>1995</td>\n",
       "      <td>Q02</td>\n",
       "      <td>2.1</td>\n",
       "      <td>NaN</td>\n",
       "    </tr>\n",
       "    <tr>\n",
       "      <th>2</th>\n",
       "      <td>PRS30006011</td>\n",
       "      <td>1995</td>\n",
       "      <td>Q03</td>\n",
       "      <td>0.9</td>\n",
       "      <td>NaN</td>\n",
       "    </tr>\n",
       "    <tr>\n",
       "      <th>3</th>\n",
       "      <td>PRS30006011</td>\n",
       "      <td>1995</td>\n",
       "      <td>Q04</td>\n",
       "      <td>0.1</td>\n",
       "      <td>NaN</td>\n",
       "    </tr>\n",
       "    <tr>\n",
       "      <th>4</th>\n",
       "      <td>PRS30006011</td>\n",
       "      <td>1995</td>\n",
       "      <td>Q05</td>\n",
       "      <td>1.4</td>\n",
       "      <td>NaN</td>\n",
       "    </tr>\n",
       "  </tbody>\n",
       "</table>\n",
       "</div>"
      ],
      "text/plain": [
       "           series_id  year period  value footnote_codes\n",
       "0  PRS30006011        1995    Q01    2.6            NaN\n",
       "1  PRS30006011        1995    Q02    2.1            NaN\n",
       "2  PRS30006011        1995    Q03    0.9            NaN\n",
       "3  PRS30006011        1995    Q04    0.1            NaN\n",
       "4  PRS30006011        1995    Q05    1.4            NaN"
      ]
     },
     "metadata": {},
     "output_type": "display_data"
    }
   ],
   "source": [
    "display(part1_df.head())"
   ]
  },
  {
   "cell_type": "code",
   "execution_count": 87,
   "id": "d65d9bfd",
   "metadata": {},
   "outputs": [
    {
     "data": {
      "text/plain": [
       "series_id          object\n",
       "year                int64\n",
       "period             object\n",
       "value             float64\n",
       "footnote_codes     object\n",
       "dtype: object"
      ]
     },
     "execution_count": 87,
     "metadata": {},
     "output_type": "execute_result"
    }
   ],
   "source": [
    "part1_df.dtypes"
   ]
  },
  {
   "cell_type": "code",
   "execution_count": 88,
   "id": "cfda7ace",
   "metadata": {},
   "outputs": [
    {
     "data": {
      "text/html": [
       "<div>\n",
       "<style scoped>\n",
       "    .dataframe tbody tr th:only-of-type {\n",
       "        vertical-align: middle;\n",
       "    }\n",
       "\n",
       "    .dataframe tbody tr th {\n",
       "        vertical-align: top;\n",
       "    }\n",
       "\n",
       "    .dataframe thead th {\n",
       "        text-align: right;\n",
       "    }\n",
       "</style>\n",
       "<table border=\"1\" class=\"dataframe\">\n",
       "  <thead>\n",
       "    <tr style=\"text-align: right;\">\n",
       "      <th></th>\n",
       "      <th>series_id</th>\n",
       "      <th>year</th>\n",
       "      <th>value</th>\n",
       "    </tr>\n",
       "  </thead>\n",
       "  <tbody>\n",
       "    <tr>\n",
       "      <th>0</th>\n",
       "      <td>PRS30006011</td>\n",
       "      <td>2022</td>\n",
       "      <td>20.500</td>\n",
       "    </tr>\n",
       "    <tr>\n",
       "      <th>1</th>\n",
       "      <td>PRS30006012</td>\n",
       "      <td>2022</td>\n",
       "      <td>17.100</td>\n",
       "    </tr>\n",
       "    <tr>\n",
       "      <th>2</th>\n",
       "      <td>PRS30006013</td>\n",
       "      <td>1998</td>\n",
       "      <td>705.895</td>\n",
       "    </tr>\n",
       "    <tr>\n",
       "      <th>3</th>\n",
       "      <td>PRS30006021</td>\n",
       "      <td>2010</td>\n",
       "      <td>17.700</td>\n",
       "    </tr>\n",
       "    <tr>\n",
       "      <th>4</th>\n",
       "      <td>PRS30006022</td>\n",
       "      <td>2010</td>\n",
       "      <td>12.400</td>\n",
       "    </tr>\n",
       "    <tr>\n",
       "      <th>...</th>\n",
       "      <td>...</td>\n",
       "      <td>...</td>\n",
       "      <td>...</td>\n",
       "    </tr>\n",
       "    <tr>\n",
       "      <th>277</th>\n",
       "      <td>PRS88003192</td>\n",
       "      <td>2002</td>\n",
       "      <td>282.800</td>\n",
       "    </tr>\n",
       "    <tr>\n",
       "      <th>278</th>\n",
       "      <td>PRS88003193</td>\n",
       "      <td>2024</td>\n",
       "      <td>860.838</td>\n",
       "    </tr>\n",
       "    <tr>\n",
       "      <th>279</th>\n",
       "      <td>PRS88003201</td>\n",
       "      <td>2022</td>\n",
       "      <td>37.200</td>\n",
       "    </tr>\n",
       "    <tr>\n",
       "      <th>280</th>\n",
       "      <td>PRS88003202</td>\n",
       "      <td>2022</td>\n",
       "      <td>28.700</td>\n",
       "    </tr>\n",
       "    <tr>\n",
       "      <th>281</th>\n",
       "      <td>PRS88003203</td>\n",
       "      <td>2024</td>\n",
       "      <td>583.441</td>\n",
       "    </tr>\n",
       "  </tbody>\n",
       "</table>\n",
       "<p>282 rows × 3 columns</p>\n",
       "</div>"
      ],
      "text/plain": [
       "             series_id  year    value\n",
       "0    PRS30006011        2022   20.500\n",
       "1    PRS30006012        2022   17.100\n",
       "2    PRS30006013        1998  705.895\n",
       "3    PRS30006021        2010   17.700\n",
       "4    PRS30006022        2010   12.400\n",
       "..                 ...   ...      ...\n",
       "277  PRS88003192        2002  282.800\n",
       "278  PRS88003193        2024  860.838\n",
       "279  PRS88003201        2022   37.200\n",
       "280  PRS88003202        2022   28.700\n",
       "281  PRS88003203        2024  583.441\n",
       "\n",
       "[282 rows x 3 columns]"
      ]
     },
     "metadata": {},
     "output_type": "display_data"
    }
   ],
   "source": [
    "# Group and aggregate\n",
    "grouped = part1_df.groupby(['series_id', 'year'])['value'].sum().reset_index()\n",
    "best_years = grouped.loc[grouped.groupby('series_id')['value'].idxmax()].reset_index(drop=True)\n",
    "\n",
    "\n",
    "display(best_years)\n"
   ]
  },
  {
   "cell_type": "markdown",
   "id": "ada31b9c",
   "metadata": {},
   "source": [
    "SECTION 3 - JOIN"
   ]
  },
  {
   "cell_type": "code",
   "execution_count": 98,
   "id": "da1235ca",
   "metadata": {},
   "outputs": [
    {
     "name": "stdout",
     "output_type": "stream",
     "text": [
      "      series_id  year period  value  Population\n",
      "0   PRS30006032  2023    Q01    0.3   332387540\n",
      "1   PRS30006032  2022    Q01    5.3   331097593\n",
      "2   PRS30006032  2021    Q01    0.7   329725481\n",
      "3   PRS30006032  2020    Q01   -7.0   326569308\n",
      "4   PRS30006032  2019    Q01   -1.6   324697795\n",
      "5   PRS30006032  2018    Q01    0.5   322903030\n",
      "6   PRS30006032  2017    Q01    0.9   321004407\n",
      "7   PRS30006032  2016    Q01   -1.4   318558162\n",
      "8   PRS30006032  2015    Q01   -1.7   316515021\n",
      "9   PRS30006032  2014    Q01   -0.1   314107084\n",
      "10  PRS30006032  2013    Q01    0.5   311536594\n"
     ]
    }
   ],
   "source": [
    "# Filter for series_id and period\n",
    "part1_df['series_id'] = part1_df['series_id'].str.strip()\n",
    "part1_df['period'] = part1_df['period'].str.strip()\n",
    "filtered = part1_df[(part1_df['series_id'] == 'PRS30006032') & (part1_df['period'] == 'Q01')]\n",
    "\n",
    "# Prepare population data\n",
    "pop_lookup = part2_df[['Year', 'Population']].drop_duplicates()\n",
    "pop_lookup['Population'] = pd.to_numeric(pop_lookup['Population'], errors='coerce').astype('Int64')\n",
    "pop_lookup.columns = ['year', 'Population']\n",
    "\n",
    "# Merge\n",
    "final = pd.merge(filtered, pop_lookup, on='year', how='right')\n",
    "final_result = final[['series_id', 'year', 'period', 'value', 'Population']]\n",
    "print(final_result)\n"
   ]
  }
 ],
 "metadata": {
  "kernelspec": {
   "display_name": "Python 3",
   "language": "python",
   "name": "python3"
  },
  "language_info": {
   "codemirror_mode": {
    "name": "ipython",
    "version": 3
   },
   "file_extension": ".py",
   "mimetype": "text/x-python",
   "name": "python",
   "nbconvert_exporter": "python",
   "pygments_lexer": "ipython3",
   "version": "3.9.6"
  }
 },
 "nbformat": 4,
 "nbformat_minor": 5
}
